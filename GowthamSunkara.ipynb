{
 "cells": [
  {
   "cell_type": "code",
   "execution_count": 1,
   "id": "7de9f40f",
   "metadata": {},
   "outputs": [
    {
     "name": "stdout",
     "output_type": "stream",
     "text": [
      "Original list: [1, 2, 3]\n",
      "List after adding 4: [1, 2, 3, 4]\n",
      "List after removing 2: [1, 3, 4]\n",
      "List after modifying the second element: [1, 10, 4]\n",
      "\n",
      "Original dictionary: {'a': 1, 'b': 2, 'c': 3}\n",
      "Dictionary after adding {'d': 4}: {'a': 1, 'b': 2, 'c': 3, 'd': 4}\n",
      "Dictionary after removing 'b': {'a': 1, 'c': 3, 'd': 4}\n",
      "Dictionary after modifying 'a': {'a': 10, 'c': 3, 'd': 4}\n",
      "\n",
      "Original set: {1, 2, 3}\n",
      "Set after adding 4: {1, 2, 3, 4}\n",
      "Set after removing 2: {1, 3, 4}\n",
      "Set after removing 1 and adding 10: {10, 3, 4}\n"
     ]
    }
   ],
   "source": [
    "my_list = [1, 2, 3]\n",
    "print(\"Original list:\", my_list)\n",
    "my_list.append(4)\n",
    "print(\"List after adding 4:\", my_list)\n",
    "my_list.remove(2)\n",
    "print(\"List after removing 2:\", my_list)\n",
    "my_list[1] = 10\n",
    "print(\"List after modifying the second element:\", my_list)\n",
    "my_dict = {'a': 1, 'b': 2, 'c': 3}\n",
    "print(\"\\nOriginal dictionary:\", my_dict)\n",
    "my_dict['d'] = 4\n",
    "print(\"Dictionary after adding {'d': 4}:\", my_dict)\n",
    "del my_dict['b']\n",
    "print(\"Dictionary after removing 'b':\", my_dict)\n",
    "my_dict['a'] = 10\n",
    "print(\"Dictionary after modifying 'a':\", my_dict)\n",
    "my_set = {1, 2, 3}\n",
    "print(\"\\nOriginal set:\", my_set)\n",
    "my_set.add(4)\n",
    "print(\"Set after adding 4:\", my_set)\n",
    "my_set.remove(2)\n",
    "print(\"Set after removing 2:\", my_set)\n",
    "my_set.discard(1)\n",
    "my_set.add(10)    \n",
    "print(\"Set after removing 1 and adding 10:\", my_set)"
   ]
  },
  {
   "cell_type": "code",
   "execution_count": null,
   "id": "dc662ccb",
   "metadata": {},
   "outputs": [],
   "source": []
  }
 ],
 "metadata": {
  "kernelspec": {
   "display_name": "Python 3 (ipykernel)",
   "language": "python",
   "name": "python3"
  },
  "language_info": {
   "codemirror_mode": {
    "name": "ipython",
    "version": 3
   },
   "file_extension": ".py",
   "mimetype": "text/x-python",
   "name": "python",
   "nbconvert_exporter": "python",
   "pygments_lexer": "ipython3",
   "version": "3.11.3"
  }
 },
 "nbformat": 4,
 "nbformat_minor": 5
}
